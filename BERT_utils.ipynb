{
 "cells": [
  {
   "cell_type": "code",
   "execution_count": 8,
   "metadata": {},
   "outputs": [
    {
     "name": "stdout",
     "output_type": "stream",
     "text": [
      "Looking in indexes: https://pypi.org/simple, http://10.10.31.18:9292/simple/\n",
      "Requirement already satisfied: bert-for-tf2 in /home/kuba/.venvs/playground/lib/python3.6/site-packages (0.14.4)\n",
      "Requirement already satisfied: py-params>=0.9.6 in /home/kuba/.venvs/playground/lib/python3.6/site-packages (from bert-for-tf2) (0.9.7)\n",
      "Requirement already satisfied: params-flow>=0.8.0 in /home/kuba/.venvs/playground/lib/python3.6/site-packages (from bert-for-tf2) (0.8.2)\n",
      "Requirement already satisfied: tqdm in /home/kuba/.venvs/playground/lib/python3.6/site-packages (from params-flow>=0.8.0->bert-for-tf2) (4.46.0)\n",
      "Requirement already satisfied: numpy in /home/kuba/.venvs/playground/lib/python3.6/site-packages (from params-flow>=0.8.0->bert-for-tf2) (1.18.4)\n",
      "\u001b[33mWARNING: You are using pip version 20.0.2; however, version 20.1 is available.\n",
      "You should consider upgrading via the '/home/kuba/.venvs/playground/bin/python -m pip install --upgrade pip' command.\u001b[0m\n",
      "Looking in indexes: https://pypi.org/simple, http://10.10.31.18:9292/simple/\n",
      "Requirement already satisfied: sentencepiece in /home/kuba/.venvs/playground/lib/python3.6/site-packages (0.1.86)\n",
      "\u001b[33mWARNING: You are using pip version 20.0.2; however, version 20.1 is available.\n",
      "You should consider upgrading via the '/home/kuba/.venvs/playground/bin/python -m pip install --upgrade pip' command.\u001b[0m\n",
      "Looking in indexes: https://pypi.org/simple, http://10.10.31.18:9292/simple/\n",
      "Requirement already satisfied: tensorflow-gpu in /home/kuba/.venvs/playground/lib/python3.6/site-packages (2.1.0)\n",
      "Requirement already satisfied: google-pasta>=0.1.6 in /home/kuba/.venvs/playground/lib/python3.6/site-packages (from tensorflow-gpu) (0.2.0)\n",
      "Requirement already satisfied: scipy==1.4.1; python_version >= \"3\" in /home/kuba/.venvs/playground/lib/python3.6/site-packages (from tensorflow-gpu) (1.4.1)\n",
      "Requirement already satisfied: wrapt>=1.11.1 in /home/kuba/.venvs/playground/lib/python3.6/site-packages (from tensorflow-gpu) (1.12.1)\n",
      "Requirement already satisfied: absl-py>=0.7.0 in /home/kuba/.venvs/playground/lib/python3.6/site-packages (from tensorflow-gpu) (0.9.0)\n",
      "Requirement already satisfied: protobuf>=3.8.0 in /home/kuba/.venvs/playground/lib/python3.6/site-packages (from tensorflow-gpu) (3.11.3)\n",
      "Requirement already satisfied: gast==0.2.2 in /home/kuba/.venvs/playground/lib/python3.6/site-packages (from tensorflow-gpu) (0.2.2)\n",
      "Requirement already satisfied: tensorflow-estimator<2.2.0,>=2.1.0rc0 in /home/kuba/.venvs/playground/lib/python3.6/site-packages (from tensorflow-gpu) (2.1.0)\n",
      "Requirement already satisfied: keras-preprocessing>=1.1.0 in /home/kuba/.venvs/playground/lib/python3.6/site-packages (from tensorflow-gpu) (1.1.0)\n",
      "Requirement already satisfied: wheel>=0.26; python_version >= \"3\" in /home/kuba/.venvs/playground/lib/python3.6/site-packages (from tensorflow-gpu) (0.34.2)\n",
      "Requirement already satisfied: tensorboard<2.2.0,>=2.1.0 in /home/kuba/.venvs/playground/lib/python3.6/site-packages (from tensorflow-gpu) (2.1.1)\n",
      "Requirement already satisfied: termcolor>=1.1.0 in /home/kuba/.venvs/playground/lib/python3.6/site-packages (from tensorflow-gpu) (1.1.0)\n",
      "Requirement already satisfied: six>=1.12.0 in /home/kuba/.venvs/playground/lib/python3.6/site-packages (from tensorflow-gpu) (1.14.0)\n",
      "Requirement already satisfied: grpcio>=1.8.6 in /home/kuba/.venvs/playground/lib/python3.6/site-packages (from tensorflow-gpu) (1.28.1)\n",
      "Requirement already satisfied: astor>=0.6.0 in /home/kuba/.venvs/playground/lib/python3.6/site-packages (from tensorflow-gpu) (0.8.1)\n",
      "Requirement already satisfied: numpy<2.0,>=1.16.0 in /home/kuba/.venvs/playground/lib/python3.6/site-packages (from tensorflow-gpu) (1.18.4)\n",
      "Requirement already satisfied: opt-einsum>=2.3.2 in /home/kuba/.venvs/playground/lib/python3.6/site-packages (from tensorflow-gpu) (3.2.1)\n",
      "Requirement already satisfied: keras-applications>=1.0.8 in /home/kuba/.venvs/playground/lib/python3.6/site-packages (from tensorflow-gpu) (1.0.8)\n",
      "Requirement already satisfied: setuptools in /home/kuba/.venvs/playground/lib/python3.6/site-packages (from protobuf>=3.8.0->tensorflow-gpu) (46.1.1)\n",
      "Requirement already satisfied: google-auth-oauthlib<0.5,>=0.4.1 in /home/kuba/.venvs/playground/lib/python3.6/site-packages (from tensorboard<2.2.0,>=2.1.0->tensorflow-gpu) (0.4.1)\n",
      "Requirement already satisfied: werkzeug>=0.11.15 in /home/kuba/.venvs/playground/lib/python3.6/site-packages (from tensorboard<2.2.0,>=2.1.0->tensorflow-gpu) (1.0.1)\n",
      "Requirement already satisfied: markdown>=2.6.8 in /home/kuba/.venvs/playground/lib/python3.6/site-packages (from tensorboard<2.2.0,>=2.1.0->tensorflow-gpu) (3.2.1)\n",
      "Requirement already satisfied: google-auth<2,>=1.6.3 in /home/kuba/.venvs/playground/lib/python3.6/site-packages (from tensorboard<2.2.0,>=2.1.0->tensorflow-gpu) (1.14.2)\n",
      "Requirement already satisfied: requests<3,>=2.21.0 in /home/kuba/.venvs/playground/lib/python3.6/site-packages (from tensorboard<2.2.0,>=2.1.0->tensorflow-gpu) (2.23.0)\n",
      "Requirement already satisfied: h5py in /home/kuba/.venvs/playground/lib/python3.6/site-packages (from keras-applications>=1.0.8->tensorflow-gpu) (2.10.0)\n",
      "Requirement already satisfied: requests-oauthlib>=0.7.0 in /home/kuba/.venvs/playground/lib/python3.6/site-packages (from google-auth-oauthlib<0.5,>=0.4.1->tensorboard<2.2.0,>=2.1.0->tensorflow-gpu) (1.3.0)\n",
      "Requirement already satisfied: pyasn1-modules>=0.2.1 in /home/kuba/.venvs/playground/lib/python3.6/site-packages (from google-auth<2,>=1.6.3->tensorboard<2.2.0,>=2.1.0->tensorflow-gpu) (0.2.8)\n",
      "Requirement already satisfied: cachetools<5.0,>=2.0.0 in /home/kuba/.venvs/playground/lib/python3.6/site-packages (from google-auth<2,>=1.6.3->tensorboard<2.2.0,>=2.1.0->tensorflow-gpu) (4.1.0)\n",
      "Requirement already satisfied: rsa<4.1,>=3.1.4 in /home/kuba/.venvs/playground/lib/python3.6/site-packages (from google-auth<2,>=1.6.3->tensorboard<2.2.0,>=2.1.0->tensorflow-gpu) (4.0)\n",
      "Requirement already satisfied: chardet<4,>=3.0.2 in /home/kuba/.venvs/playground/lib/python3.6/site-packages (from requests<3,>=2.21.0->tensorboard<2.2.0,>=2.1.0->tensorflow-gpu) (3.0.4)\n",
      "Requirement already satisfied: urllib3!=1.25.0,!=1.25.1,<1.26,>=1.21.1 in /home/kuba/.venvs/playground/lib/python3.6/site-packages (from requests<3,>=2.21.0->tensorboard<2.2.0,>=2.1.0->tensorflow-gpu) (1.25.9)\n",
      "Requirement already satisfied: idna<3,>=2.5 in /home/kuba/.venvs/playground/lib/python3.6/site-packages (from requests<3,>=2.21.0->tensorboard<2.2.0,>=2.1.0->tensorflow-gpu) (2.9)\n",
      "Requirement already satisfied: certifi>=2017.4.17 in /home/kuba/.venvs/playground/lib/python3.6/site-packages (from requests<3,>=2.21.0->tensorboard<2.2.0,>=2.1.0->tensorflow-gpu) (2020.4.5.1)\n",
      "Requirement already satisfied: oauthlib>=3.0.0 in /home/kuba/.venvs/playground/lib/python3.6/site-packages (from requests-oauthlib>=0.7.0->google-auth-oauthlib<0.5,>=0.4.1->tensorboard<2.2.0,>=2.1.0->tensorflow-gpu) (3.1.0)\n",
      "Requirement already satisfied: pyasn1<0.5.0,>=0.4.6 in /home/kuba/.venvs/playground/lib/python3.6/site-packages (from pyasn1-modules>=0.2.1->google-auth<2,>=1.6.3->tensorboard<2.2.0,>=2.1.0->tensorflow-gpu) (0.4.8)\n",
      "\u001b[33mWARNING: You are using pip version 20.0.2; however, version 20.1 is available.\n",
      "You should consider upgrading via the '/home/kuba/.venvs/playground/bin/python -m pip install --upgrade pip' command.\u001b[0m\n",
      "Looking in indexes: https://pypi.org/simple, http://10.10.31.18:9292/simple/\n",
      "Collecting tensorflow-hub\n",
      "  Downloading tensorflow_hub-0.8.0-py2.py3-none-any.whl (101 kB)\n",
      "\u001b[K     |████████████████████████████████| 101 kB 2.3 MB/s ta 0:00:011\n",
      "\u001b[?25hRequirement already satisfied: six>=1.12.0 in /home/kuba/.venvs/playground/lib/python3.6/site-packages (from tensorflow-hub) (1.14.0)\n",
      "Requirement already satisfied: protobuf>=3.8.0 in /home/kuba/.venvs/playground/lib/python3.6/site-packages (from tensorflow-hub) (3.11.3)\n",
      "Requirement already satisfied: numpy>=1.12.0 in /home/kuba/.venvs/playground/lib/python3.6/site-packages (from tensorflow-hub) (1.18.4)\n",
      "Requirement already satisfied: setuptools in /home/kuba/.venvs/playground/lib/python3.6/site-packages (from protobuf>=3.8.0->tensorflow-hub) (46.1.1)\n",
      "Installing collected packages: tensorflow-hub\n",
      "Successfully installed tensorflow-hub-0.8.0\n"
     ]
    },
    {
     "name": "stdout",
     "output_type": "stream",
     "text": [
      "\u001b[33mWARNING: You are using pip version 20.0.2; however, version 20.1 is available.\r\n",
      "You should consider upgrading via the '/home/kuba/.venvs/playground/bin/python -m pip install --upgrade pip' command.\u001b[0m\r\n"
     ]
    }
   ],
   "source": [
    "!pip install bert-for-tf2\n",
    "!pip install sentencepiece\n",
    "!pip install tensorflow-gpu\n",
    "!pip install tensorflow-hub"
   ]
  },
  {
   "cell_type": "code",
   "execution_count": 9,
   "metadata": {},
   "outputs": [],
   "source": [
    "import tensorflow as tf\n",
    "\n",
    "import tensorflow_hub as hub\n",
    "\n",
    "import bert"
   ]
  },
  {
   "cell_type": "markdown",
   "metadata": {},
   "source": [
    "# Tokenization with BERT"
   ]
  },
  {
   "cell_type": "markdown",
   "metadata": {},
   "source": [
    "source: https://colab.research.google.com/drive/1cGtHn0gKJA7YTxwsvQUNS_yN5Oil4grp#scrollTo=Up5Nh2dY63li"
   ]
  },
  {
   "cell_type": "markdown",
   "metadata": {},
   "source": [
    "During any text data preprocessing, there is a tokenization phase involed. The tokenizer used by Google and available with their package is very powerful!"
   ]
  },
  {
   "cell_type": "markdown",
   "metadata": {},
   "source": [
    "Create the tokenizer with the BERT layer we need to call."
   ]
  },
  {
   "cell_type": "code",
   "execution_count": 10,
   "metadata": {},
   "outputs": [],
   "source": [
    "FullTokenizer = bert.bert_tokenization.FullTokenizer\n",
    "bert_layer = hub.KerasLayer(\"https://tfhub.dev/tensorflow/bert_en_uncased_L-12_H-768_A-12/1\",\n",
    "                            trainable=False) # trainable=False because we won't train this layer, we just need info from it\n",
    "vocab_file = bert_layer.resolved_object.vocab_file.asset_path.numpy()\n",
    "do_lower_case = bert_layer.resolved_object.do_lower_case.numpy()\n",
    "tokenizer = FullTokenizer(vocab_file, do_lower_case)"
   ]
  },
  {
   "cell_type": "markdown",
   "metadata": {},
   "source": [
    "Applying the tokenizer then converting into ids."
   ]
  },
  {
   "cell_type": "code",
   "execution_count": 11,
   "metadata": {},
   "outputs": [
    {
     "name": "stdout",
     "output_type": "stream",
     "text": [
      "['roses', 'are', 'red', ',', 'violet', '##s', 'are', 'blue', '.']\n",
      "[10529, 2024, 2417, 1010, 8766, 2015, 2024, 2630, 1012]\n"
     ]
    }
   ],
   "source": [
    "print(tokenizer.tokenize(\"Roses are red, violets are blue.\"))\n",
    "print(tokenizer.convert_tokens_to_ids(tokenizer.tokenize(\"Roses are red, violets are blue.\")))"
   ]
  },
  {
   "cell_type": "markdown",
   "metadata": {},
   "source": [
    "# Embedding with BERT"
   ]
  },
  {
   "cell_type": "markdown",
   "metadata": {},
   "source": [
    "This time we go even further, keeping any NLP model we already have but improving the embedding layer with BERT."
   ]
  },
  {
   "cell_type": "code",
   "execution_count": 12,
   "metadata": {},
   "outputs": [],
   "source": [
    "import numpy as np\n",
    "from collections import namedtuple"
   ]
  },
  {
   "cell_type": "markdown",
   "metadata": {},
   "source": [
    "## Inputs creation"
   ]
  },
  {
   "cell_type": "markdown",
   "metadata": {},
   "source": [
    "Our BERT embedding layer will need three types of input tokens."
   ]
  },
  {
   "cell_type": "code",
   "execution_count": 13,
   "metadata": {},
   "outputs": [],
   "source": [
    "FullTokenizer = bert.bert_tokenization.FullTokenizer\n",
    "bert_layer = hub.KerasLayer(\"https://tfhub.dev/tensorflow/bert_en_uncased_L-12_H-768_A-12/1\",\n",
    "                            trainable=False) # trainable=False because we won't train this layer, we just need info from it\n",
    "vocab_file = bert_layer.resolved_object.vocab_file.asset_path.numpy()\n",
    "do_lower_case = bert_layer.resolved_object.do_lower_case.numpy()\n",
    "tokenizer = FullTokenizer(vocab_file, do_lower_case)"
   ]
  },
  {
   "cell_type": "code",
   "execution_count": 14,
   "metadata": {},
   "outputs": [],
   "source": [
    "def get_ids(tokens):\n",
    "    return tokenizer.convert_tokens_to_ids(tokens)\n",
    "\n",
    "def get_mask(tokens):\n",
    "    return np.char.not_equal(tokens, \"[PAD]\").astype(int)\n",
    "\n",
    "def get_segments(tokens):\n",
    "    seg_ids = []\n",
    "    current_seg_id = 0\n",
    "    for tok in tokens:\n",
    "        seg_ids.append(current_seg_id)\n",
    "        if tok == \"[SEP]\":\n",
    "            current_seg_id = 1-current_seg_id # turns 1 into 0 and vice versa\n",
    "    return seg_ids"
   ]
  },
  {
   "cell_type": "code",
   "execution_count": 15,
   "metadata": {},
   "outputs": [],
   "source": [
    "my_sent = \"Roses are red, violets are blue.\"\n",
    "my_tok_sent = tokenizer.tokenize(my_sent)"
   ]
  },
  {
   "cell_type": "code",
   "execution_count": 16,
   "metadata": {},
   "outputs": [],
   "source": [
    "my_input = tf.expand_dims([get_ids(my_tok_sent),\n",
    "                           get_mask(my_tok_sent),\n",
    "                           get_segments(my_tok_sent)],\n",
    "                          axis=0) # expand_dims to simulate batch"
   ]
  },
  {
   "cell_type": "code",
   "execution_count": 17,
   "metadata": {},
   "outputs": [
    {
     "data": {
      "text/plain": [
       "<tf.Tensor: shape=(1, 9), dtype=int32, numpy=\n",
       "array([[10529,  2024,  2417,  1010,  8766,  2015,  2024,  2630,  1012]],\n",
       "      dtype=int32)>"
      ]
     },
     "execution_count": 17,
     "metadata": {},
     "output_type": "execute_result"
    }
   ],
   "source": [
    "my_input[:, 0, :]"
   ]
  },
  {
   "cell_type": "code",
   "execution_count": null,
   "metadata": {},
   "outputs": [],
   "source": [
    "def YourModel(tf.keras.Model):\n",
    "\n",
    "    def __init__(self,\n",
    "                 # ...,\n",
    "                 ):\n",
    "        super(YourModel, self).__init__()\n",
    "\n",
    "        self.bert_embedder = hub.keras_layer(\n",
    "            \"https://tfhub.dev/tensorflow/bert_en_uncased_L-12_H-768_A-12/1\",\n",
    "            trainable=False) # we still don't want to train this layer, the learning\n",
    "                             # will come with the rest of the model, this is as frozen embedding layer\n",
    "            \n",
    "        # ...\n",
    "\n",
    "    # ...\n",
    "\n",
    "    def call(self, inputs):\n",
    "        _, embedded = self.bert_embedder([inputs[:, 0, :],\n",
    "                                          inputs[:, 1, :],\n",
    "                                          inputs[:, 2, :])\n",
    "        \n",
    "        # ...\n",
    "    "
   ]
  }
 ],
 "metadata": {
  "kernelspec": {
   "display_name": "Python 3",
   "language": "python",
   "name": "python3"
  },
  "language_info": {
   "codemirror_mode": {
    "name": "ipython",
    "version": 3
   },
   "file_extension": ".py",
   "mimetype": "text/x-python",
   "name": "python",
   "nbconvert_exporter": "python",
   "pygments_lexer": "ipython3",
   "version": "3.6.9"
  }
 },
 "nbformat": 4,
 "nbformat_minor": 4
}
